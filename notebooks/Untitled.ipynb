{
 "cells": [
  {
   "cell_type": "code",
   "execution_count": 170,
   "id": "10d51837",
   "metadata": {},
   "outputs": [],
   "source": [
    "import torch\n",
    "import torch.nn as nn\n",
    "import matplotlib.pyplot as plt\n",
    "import numpy as np\n",
    "import seaborn as sns\n",
    "import scipy\n",
    "\n",
    "import torch.distributions as tdist\n",
    "\n",
    "from ipywidgets import interact"
   ]
  },
  {
   "cell_type": "markdown",
   "id": "2b0244ea",
   "metadata": {},
   "source": [
    "$\\newcommand{\\elbo}{\\mathrm{ELBO}}$\n",
    "$\\newcommand{\\kl}{\\mathrm{KL}}$\n",
    "$\\newcommand{\\set}[1]{ \\left\\{ #1 \\right\\}}$\n",
    "$\\def\\R{{\\mathbb R}}$\n",
    "$\\def\\Q{{\\mathbb Q}}$\n",
    "$\\def\\E{{\\mathbb E}}$\n",
    "$\\def\\C{{\\mathbb C}}$\n",
    "$\\def\\N{{\\mathbb N}}$\n",
    "$\\def\\Z{{\\mathbb Z}}$\n",
    "\n",
    "$\\newcommand{\\brac}[1]{\\left(#1\\right)}$\n",
    "$\\newcommand{\\abs}[1]{\\left|\\, #1\\,\\right|}$\n",
    "$\\newcommand{\\p}{\\partial}$\n",
    "$\\newcommand{\\abrac}[1]{\\left\\langle #1 \\right\\rangle}$\n",
    "$\\newcommand{\\sqbrac}[1]{\\left[ #1 \\right]}$\n",
    "$\\newcommand{\\st}{\\, \\, : \\,}$\n",
    "$\\newcommand{\\supp}{\\mathrm{supp}}$\n",
    "$\\newcommand{\\norm}[1]{\\lVert #1 \\rVert}$\n",
    "$\\renewcommand{\\d}[1]{\\, \\mathrm{d}#1 \\,}$"
   ]
  },
  {
   "cell_type": "markdown",
   "id": "74883919",
   "metadata": {},
   "source": [
    "# Unit test: Making sure that code works\n",
    "Will try to do variational inference against toy Gaussian posterior to make sure that the code has intended behaviour. \n",
    "\n",
    "We will attempt to approximate the normal distribution \n",
    "$$\n",
    "p(\\xi) = \\frac{1}{(2\\pi)^{d/2} \\sqrt{\\mathrm{det}(\\sigma_0^2I_d)}} e^{\\frac{1}{2\\sigma_0^2}\\sum_{j = 1}^d (\\xi_j - \\mu_{0j})^2}. \n",
    "$$\n",
    "\n",
    "We shall find a distribution from the following Gaussian family\n",
    "$$\n",
    "\\mathcal{Q}_{gaussian} = \\set{q_{\\mu, \\sigma}(\\xi) = \\frac{1}{(2\\pi)^{d/2} \\sqrt{\\mathrm{det}(\\sigma^2I_d)}} e^{\\frac{1}{2\\sigma^2}\\sum_{j = 1}^d (\\xi_j - \\mu_{j})^2} \\st \\mu \\in \\R^d, \\sigma \\in \\R_{> 0}}\n",
    "$$\n",
    "\n",
    "\n",
    "In this case, we have ELBO given by \n",
    "$$\n",
    "-\\elbo(q) = \\E_q\\sqbrac{\\log \\frac{q(\\xi)}{e^{-\\frac{1}{2\\sigma_0^2}\\sum_j (\\xi_j - \\mu_{0j})^2}}} = \\E_q \\log q(\\xi) + \\frac{1}{2\\sigma_0^2} \\E_q \\sum_j (\\xi_j - \\mu_{0j})^2\n",
    "$$"
   ]
  },
  {
   "cell_type": "code",
   "execution_count": 182,
   "id": "2ce095a6",
   "metadata": {
    "scrolled": true
   },
   "outputs": [
    {
     "name": "stdout",
     "output_type": "stream",
     "text": [
      "0: mu=tensor([0.1001, 0.8999]), sigma=0.8999549746513367, negelbo=1.5305336713790894\n",
      "500: mu=tensor([0.1387, 0.8613]), sigma=0.8657623529434204, negelbo=1.2861064672470093\n",
      "1000: mu=tensor([0.1772, 0.8228]), sigma=0.8327990770339966, negelbo=1.1186916828155518\n",
      "1500: mu=tensor([0.2136, 0.7864]), sigma=0.8026116490364075, negelbo=0.8903730511665344\n",
      "2000: mu=tensor([0.2481, 0.7518]), sigma=0.7748115062713623, negelbo=0.8628026247024536\n",
      "2500: mu=tensor([0.2811, 0.7188]), sigma=0.749034583568573, negelbo=0.621742844581604\n",
      "3000: mu=tensor([0.3128, 0.6871]), sigma=0.7249778509140015, negelbo=0.5323859453201294\n",
      "3500: mu=tensor([0.3433, 0.6566]), sigma=0.7023874521255493, negelbo=0.3982437551021576\n",
      "4000: mu=tensor([0.3729, 0.6271]), sigma=0.6810635924339294, negelbo=0.32242271304130554\n",
      "4500: mu=tensor([0.4016, 0.5984]), sigma=0.6608493328094482, negelbo=0.18833713233470917\n",
      "5000: mu=tensor([0.4296, 0.5704]), sigma=0.6416165828704834, negelbo=0.2180633395910263\n",
      "5500: mu=tensor([0.4569, 0.5431]), sigma=0.6232567429542542, negelbo=0.053478483110666275\n",
      "6000: mu=tensor([0.4835, 0.5165]), sigma=0.6056786775588989, negelbo=0.05495472997426987\n",
      "6500: mu=tensor([0.5097, 0.4904]), sigma=0.5888089537620544, negelbo=0.07168258726596832\n",
      "7000: mu=tensor([0.5352, 0.4648]), sigma=0.5725882649421692, negelbo=0.011476756073534489\n",
      "7500: mu=tensor([0.5603, 0.4398]), sigma=0.5569669008255005, negelbo=-0.02666645124554634\n",
      "8000: mu=tensor([0.5848, 0.4153]), sigma=0.5419026613235474, negelbo=-0.056340668350458145\n",
      "8500: mu=tensor([0.6087, 0.3914]), sigma=0.5273575782775879, negelbo=-0.06491296738386154\n",
      "9000: mu=tensor([0.6321, 0.3680]), sigma=0.5132997632026672, negelbo=-0.06973389536142349\n",
      "9500: mu=tensor([0.6548, 0.3453]), sigma=0.49970000982284546, negelbo=-0.048042260110378265\n",
      "10000: mu=tensor([0.6768, 0.3234]), sigma=0.48653313517570496, negelbo=-0.07902631163597107\n",
      "10500: mu=tensor([0.6979, 0.3024]), sigma=0.4737769365310669, negelbo=-0.06597408652305603\n",
      "11000: mu=tensor([0.7179, 0.2824]), sigma=0.46141231060028076, negelbo=0.009653131477534771\n",
      "11500: mu=tensor([0.7365, 0.2638]), sigma=0.4494211673736572, negelbo=-0.04952878877520561\n",
      "12000: mu=tensor([0.7533, 0.2470]), sigma=0.43778538703918457, negelbo=0.005745346192270517\n",
      "12500: mu=tensor([0.7676, 0.2328]), sigma=0.42649078369140625, negelbo=-0.002898888662457466\n",
      "13000: mu=tensor([0.7779, 0.2226]), sigma=0.41552406549453735, negelbo=0.012377740815281868\n",
      "13500: mu=tensor([0.7819, 0.2188]), sigma=0.40487170219421387, negelbo=0.005434101913124323\n",
      "14000: mu=tensor([0.7755, 0.2256]), sigma=0.3945220112800598, negelbo=-0.054372914135456085\n",
      "14500: mu=tensor([0.7550, 0.2465]), sigma=0.3844630718231201, negelbo=-0.07750637084245682\n",
      "15000: mu=tensor([0.7238, 0.2778]), sigma=0.3746853470802307, negelbo=-0.14113232493400574\n",
      "15500: mu=tensor([0.6897, 0.3120]), sigma=0.36517783999443054, negelbo=-0.19346843659877777\n",
      "16000: mu=tensor([0.6562, 0.3454]), sigma=0.3559335172176361, negelbo=-0.27651363611221313\n",
      "16500: mu=tensor([0.6243, 0.3772]), sigma=0.34694230556488037, negelbo=-0.3204447031021118\n",
      "17000: mu=tensor([0.5938, 0.4077]), sigma=0.3381953239440918, negelbo=-0.3752956986427307\n",
      "17500: mu=tensor([0.5645, 0.4369]), sigma=0.3296838700771332, negelbo=-0.3903198838233948\n",
      "18000: mu=tensor([0.5363, 0.4651]), sigma=0.32139959931373596, negelbo=-0.4177546203136444\n",
      "18500: mu=tensor([0.5091, 0.4924]), sigma=0.31334149837493896, negelbo=-0.42756614089012146\n",
      "19000: mu=tensor([0.4827, 0.5187]), sigma=0.3054966926574707, negelbo=-0.42861613631248474\n",
      "19500: mu=tensor([0.4571, 0.5443]), sigma=0.29785728454589844, negelbo=-0.4304429292678833\n",
      "20000: mu=tensor([0.4322, 0.5690]), sigma=0.29042404890060425, negelbo=-0.42356574535369873\n",
      "20500: mu=tensor([0.4082, 0.5930]), sigma=0.28318560123443604, negelbo=-0.4071764647960663\n",
      "21000: mu=tensor([0.3851, 0.6161]), sigma=0.2761349678039551, negelbo=-0.38365304470062256\n",
      "21500: mu=tensor([0.3630, 0.6382]), sigma=0.2692735493183136, negelbo=-0.3769644498825073\n",
      "22000: mu=tensor([0.3419, 0.6591]), sigma=0.26258614659309387, negelbo=-0.35232535004615784\n",
      "22500: mu=tensor([0.3223, 0.6787]), sigma=0.25607889890670776, negelbo=-0.3489474952220917\n",
      "23000: mu=tensor([0.3045, 0.6964]), sigma=0.24973516166210175, negelbo=-0.29279476404190063\n",
      "23500: mu=tensor([0.2892, 0.7116]), sigma=0.24356091022491455, negelbo=-0.25171348452568054\n",
      "24000: mu=tensor([0.2775, 0.7229]), sigma=0.23754137754440308, negelbo=-0.23335310816764832\n",
      "24500: mu=tensor([0.2718, 0.7281]), sigma=0.2316824048757553, negelbo=-0.2643824815750122\n",
      "25000: mu=tensor([0.2759, 0.7232]), sigma=0.22596794366836548, negelbo=-0.26118209958076477\n",
      "25500: mu=tensor([0.2941, 0.7040]), sigma=0.22040751576423645, negelbo=-0.2559027373790741\n",
      "26000: mu=tensor([0.3241, 0.6735]), sigma=0.2149839550256729, negelbo=-0.31019091606140137\n",
      "26500: mu=tensor([0.3580, 0.6395]), sigma=0.2097037434577942, negelbo=-0.3446292281150818\n",
      "27000: mu=tensor([0.3913, 0.6064]), sigma=0.20455576479434967, negelbo=-0.3787110149860382\n",
      "27500: mu=tensor([0.4230, 0.5748]), sigma=0.1995391547679901, negelbo=-0.4027562439441681\n",
      "28000: mu=tensor([0.4531, 0.5449]), sigma=0.19465231895446777, negelbo=-0.4144129455089569\n",
      "28500: mu=tensor([0.4817, 0.5163]), sigma=0.18988515436649323, negelbo=-0.41418957710266113\n",
      "29000: mu=tensor([0.5091, 0.4890]), sigma=0.18524563312530518, negelbo=-0.4002844989299774\n",
      "29500: mu=tensor([0.5352, 0.4629]), sigma=0.18071961402893066, negelbo=-0.39507678151130676\n",
      "30000: mu=tensor([0.5602, 0.4380]), sigma=0.17631003260612488, negelbo=-0.3763169050216675\n",
      "30500: mu=tensor([0.5841, 0.4142]), sigma=0.1720125824213028, negelbo=-0.36449235677719116\n",
      "31000: mu=tensor([0.6067, 0.3918]), sigma=0.16782039403915405, negelbo=-0.3386644721031189\n",
      "31500: mu=tensor([0.6278, 0.3708]), sigma=0.1637396365404129, negelbo=-0.2906109094619751\n",
      "32000: mu=tensor([0.6471, 0.3516]), sigma=0.15975812077522278, negelbo=-0.2878105342388153\n",
      "32500: mu=tensor([0.6639, 0.3350]), sigma=0.15587854385375977, negelbo=-0.2670464515686035\n",
      "33000: mu=tensor([0.6773, 0.3219]), sigma=0.15209724009037018, negelbo=-0.20016920566558838\n",
      "33500: mu=tensor([0.6853, 0.3145]), sigma=0.14840838313102722, negelbo=-0.19900961220264435\n",
      "34000: mu=tensor([0.6843, 0.3164]), sigma=0.14481692016124725, negelbo=-0.1706504374742508\n",
      "34500: mu=tensor([0.6695, 0.3323]), sigma=0.1413123607635498, negelbo=-0.22471050918102264\n",
      "35000: mu=tensor([0.6413, 0.3613]), sigma=0.13789744675159454, negelbo=-0.22146578133106232\n",
      "35500: mu=tensor([0.6078, 0.3949]), sigma=0.13456836342811584, negelbo=-0.23992905020713806\n",
      "36000: mu=tensor([0.5747, 0.4280]), sigma=0.13131965696811676, negelbo=-0.2602010667324066\n",
      "36500: mu=tensor([0.5432, 0.4593]), sigma=0.12815028429031372, negelbo=-0.283486545085907\n",
      "37000: mu=tensor([0.5136, 0.4887]), sigma=0.1250714212656021, negelbo=-0.25843751430511475\n",
      "37500: mu=tensor([0.4858, 0.5164]), sigma=0.12206653505563736, negelbo=-0.24660061299800873\n",
      "38000: mu=tensor([0.4595, 0.5425]), sigma=0.1191338449716568, negelbo=-0.2627687454223633\n",
      "38500: mu=tensor([0.4350, 0.5669]), sigma=0.11627160757780075, negelbo=-0.20589226484298706\n",
      "39000: mu=tensor([0.4121, 0.5897]), sigma=0.11348641663789749, negelbo=-0.17353984713554382\n",
      "39500: mu=tensor([0.3912, 0.6104]), sigma=0.11077306419610977, negelbo=-0.14733393490314484\n",
      "40000: mu=tensor([0.3729, 0.6286]), sigma=0.10812459141016006, negelbo=-0.1104801595211029\n",
      "40500: mu=tensor([0.3579, 0.6432]), sigma=0.10553944110870361, negelbo=-0.07542452216148376\n",
      "41000: mu=tensor([0.3482, 0.6523]), sigma=0.10302390158176422, negelbo=-0.044148173183202744\n",
      "41500: mu=tensor([0.3473, 0.6524]), sigma=0.10057269036769867, negelbo=-0.026932992041110992\n",
      "42000: mu=tensor([0.3600, 0.6383]), sigma=0.09817980229854584, negelbo=0.011099076829850674\n",
      "42500: mu=tensor([0.3870, 0.6104]), sigma=0.09584466367959976, negelbo=-0.08552414178848267\n",
      "43000: mu=tensor([0.4202, 0.5770]), sigma=0.09357541799545288, negelbo=-0.0589103139936924\n",
      "43500: mu=tensor([0.4532, 0.5442]), sigma=0.09135989844799042, negelbo=-0.08102774620056152\n",
      "44000: mu=tensor([0.4841, 0.5135]), sigma=0.0891968384385109, negelbo=-0.06324560940265656\n",
      "44500: mu=tensor([0.5128, 0.4849]), sigma=0.08709470927715302, negelbo=-0.06856904923915863\n",
      "45000: mu=tensor([0.5394, 0.4586]), sigma=0.08504276722669601, negelbo=-0.043753668665885925\n"
     ]
    },
    {
     "name": "stdout",
     "output_type": "stream",
     "text": [
      "45500: mu=tensor([0.5637, 0.4344]), sigma=0.08304090797901154, negelbo=0.013373609632253647\n",
      "46000: mu=tensor([0.5856, 0.4127]), sigma=0.08109414577484131, negelbo=0.05016934126615524\n",
      "46500: mu=tensor([0.6046, 0.3941]), sigma=0.07919301092624664, negelbo=0.06894434988498688\n",
      "47000: mu=tensor([0.6194, 0.3796]), sigma=0.07734321802854538, negelbo=0.07581331580877304\n",
      "47500: mu=tensor([0.6279, 0.3717]), sigma=0.07553903013467789, negelbo=0.07124315947294235\n",
      "48000: mu=tensor([0.6259, 0.3747]), sigma=0.0737820416688919, negelbo=0.12418486922979355\n",
      "48500: mu=tensor([0.6083, 0.3934]), sigma=0.07206951826810837, negelbo=0.11245106160640717\n",
      "49000: mu=tensor([0.5781, 0.4241]), sigma=0.0704023614525795, negelbo=0.12661422789096832\n",
      "49500: mu=tensor([0.5448, 0.4574]), sigma=0.06877648085355759, negelbo=0.10562895983457565\n",
      "50000: mu=tensor([0.5131, 0.4889]), sigma=0.06719594448804855, negelbo=0.09777870029211044\n",
      "50500: mu=tensor([0.4840, 0.5179]), sigma=0.06565552204847336, negelbo=0.16182582080364227\n",
      "51000: mu=tensor([0.4576, 0.5441]), sigma=0.06415530294179916, negelbo=0.176033616065979\n",
      "51500: mu=tensor([0.4342, 0.5673]), sigma=0.06269610673189163, negelbo=0.18243999779224396\n",
      "52000: mu=tensor([0.4142, 0.5871]), sigma=0.061276454478502274, negelbo=0.23427367210388184\n",
      "52500: mu=tensor([0.3989, 0.6020]), sigma=0.05989531800150871, negelbo=0.2546998858451843\n",
      "53000: mu=tensor([0.3908, 0.6096]), sigma=0.05855222046375275, negelbo=0.2777458429336548\n",
      "53500: mu=tensor([0.3948, 0.6046]), sigma=0.05724656954407692, negelbo=0.2757984697818756\n",
      "54000: mu=tensor([0.4154, 0.5831]), sigma=0.0559791624546051, negelbo=0.2961380183696747\n",
      "54500: mu=tensor([0.4471, 0.5512]), sigma=0.0547482967376709, negelbo=0.29259392619132996\n",
      "55000: mu=tensor([0.4800, 0.5184]), sigma=0.05355440080165863, negelbo=0.344105064868927\n",
      "55500: mu=tensor([0.5103, 0.4882]), sigma=0.052397262305021286, negelbo=0.29132279753685\n",
      "56000: mu=tensor([0.5374, 0.4613]), sigma=0.05127739533782005, negelbo=0.3271062672138214\n",
      "56500: mu=tensor([0.5608, 0.4382]), sigma=0.050194915384054184, negelbo=0.3674020767211914\n",
      "57000: mu=tensor([0.5797, 0.4195]), sigma=0.049150820821523666, negelbo=0.3885214328765869\n",
      "57500: mu=tensor([0.5921, 0.4075]), sigma=0.04814595729112625, negelbo=0.4356749653816223\n",
      "58000: mu=tensor([0.5939, 0.4063]), sigma=0.04718249291181564, negelbo=0.45593422651290894\n",
      "58500: mu=tensor([0.5793, 0.4218]), sigma=0.04626286029815674, negelbo=0.4670921564102173\n",
      "59000: mu=tensor([0.5499, 0.4516]), sigma=0.04539065808057785, negelbo=0.4267199635505676\n",
      "59500: mu=tensor([0.5169, 0.4845]), sigma=0.04457162320613861, negelbo=0.47507378458976746\n",
      "60000: mu=tensor([0.4864, 0.5149]), sigma=0.04381396621465683, negelbo=0.4681982100009918\n",
      "60500: mu=tensor([0.4599, 0.5413]), sigma=0.04313090071082115, negelbo=0.4612729549407959\n",
      "61000: mu=tensor([0.4379, 0.5630]), sigma=0.04254356026649475, negelbo=0.509416937828064\n",
      "61500: mu=tensor([0.4223, 0.5783]), sigma=0.04208829253911972, negelbo=0.5434408187866211\n",
      "62000: mu=tensor([0.4167, 0.5834]), sigma=0.041830919682979584, negelbo=0.5345674753189087\n",
      "62500: mu=tensor([0.4273, 0.5721]), sigma=0.04189165309071541, negelbo=0.5420243144035339\n",
      "63000: mu=tensor([0.4549, 0.5439]), sigma=0.04245108366012573, negelbo=0.5111302733421326\n",
      "63500: mu=tensor([0.4878, 0.5110]), sigma=0.04358714818954468, negelbo=0.45522645115852356\n",
      "64000: mu=tensor([0.5181, 0.4809]), sigma=0.045080527663230896, negelbo=0.48072779178619385\n",
      "64500: mu=tensor([0.5437, 0.4555]), sigma=0.04668795317411423, negelbo=0.40988847613334656\n",
      "65000: mu=tensor([0.5632, 0.4362]), sigma=0.04831556975841522, negelbo=0.37294164299964905\n",
      "65500: mu=tensor([0.5736, 0.4260]), sigma=0.0499444417655468, negelbo=0.3850351572036743\n",
      "66000: mu=tensor([0.5688, 0.4312]), sigma=0.05157589167356491, negelbo=0.3253394365310669\n",
      "66500: mu=tensor([0.5448, 0.4555]), sigma=0.053215838968753815, negelbo=0.30593618750572205\n",
      "67000: mu=tensor([0.5122, 0.4883]), sigma=0.054869573563337326, negelbo=0.2919504642486572\n",
      "67500: mu=tensor([0.4817, 0.5188]), sigma=0.05654245987534523, negelbo=0.27698129415512085\n",
      "68000: mu=tensor([0.4566, 0.5439]), sigma=0.05823860317468643, negelbo=0.242695152759552\n",
      "68500: mu=tensor([0.4390, 0.5614]), sigma=0.05996151641011238, negelbo=0.20527571439743042\n",
      "69000: mu=tensor([0.4334, 0.5668]), sigma=0.061714619398117065, negelbo=0.21623532474040985\n",
      "69500: mu=tensor([0.4471, 0.5529]), sigma=0.06349976360797882, negelbo=0.17125602066516876\n",
      "70000: mu=tensor([0.4774, 0.5227]), sigma=0.06532012671232224, negelbo=0.10654734820127487\n",
      "70500: mu=tensor([0.5094, 0.4907]), sigma=0.06717789173126221, negelbo=0.14436377584934235\n",
      "71000: mu=tensor([0.5362, 0.4640]), sigma=0.06907431036233902, negelbo=0.11270283162593842\n",
      "71500: mu=tensor([0.5549, 0.4453]), sigma=0.07101224362850189, negelbo=0.08583579957485199\n",
      "72000: mu=tensor([0.5607, 0.4395]), sigma=0.072992242872715, negelbo=0.033861760050058365\n",
      "72500: mu=tensor([0.5457, 0.4543]), sigma=0.07501707971096039, negelbo=0.05050992965698242\n",
      "73000: mu=tensor([0.5145, 0.4853]), sigma=0.07708808034658432, negelbo=0.03903549164533615\n",
      "73500: mu=tensor([0.4833, 0.5165]), sigma=0.07920694351196289, negelbo=0.023372985422611237\n",
      "74000: mu=tensor([0.4588, 0.5411]), sigma=0.08137532323598862, negelbo=0.009275665506720543\n",
      "74500: mu=tensor([0.4451, 0.5549]), sigma=0.08359526842832565, negelbo=0.00023501110263168812\n",
      "75000: mu=tensor([0.4497, 0.5505]), sigma=0.08586780726909637, negelbo=-0.03985346108675003\n",
      "75500: mu=tensor([0.4762, 0.5244]), sigma=0.08819281309843063, negelbo=-0.05345473065972328\n",
      "76000: mu=tensor([0.5085, 0.4921]), sigma=0.09057528525590897, negelbo=-0.07412827759981155\n",
      "76500: mu=tensor([0.5349, 0.4655]), sigma=0.0930154025554657, negelbo=-0.11389317363500595\n",
      "77000: mu=tensor([0.5503, 0.4496]), sigma=0.09551266580820084, negelbo=-0.0893269032239914\n",
      "77500: mu=tensor([0.5469, 0.4524]), sigma=0.09807410091161728, negelbo=-0.10807207226753235\n",
      "78000: mu=tensor([0.5205, 0.4784]), sigma=0.10069335252046585, negelbo=-0.09517950564622879\n",
      "78500: mu=tensor([0.4884, 0.5108]), sigma=0.10338139533996582, negelbo=-0.1424681842327118\n",
      "79000: mu=tensor([0.4632, 0.5362]), sigma=0.10613057017326355, negelbo=-0.17879901826381683\n",
      "79500: mu=tensor([0.4516, 0.5483]), sigma=0.10895077884197235, negelbo=-0.16620908677577972\n",
      "80000: mu=tensor([0.4629, 0.5380]), sigma=0.111838698387146, negelbo=-0.19048449397087097\n",
      "80500: mu=tensor([0.4938, 0.5074]), sigma=0.11479689180850983, negelbo=-0.22056059539318085\n",
      "81000: mu=tensor([0.5237, 0.4772]), sigma=0.11783334612846375, negelbo=-0.22396408021450043\n",
      "81500: mu=tensor([0.5426, 0.4577]), sigma=0.12093609571456909, negelbo=-0.23869939148426056\n",
      "82000: mu=tensor([0.5418, 0.4576]), sigma=0.12412013113498688, negelbo=-0.24054068326950073\n",
      "82500: mu=tensor([0.5159, 0.4830]), sigma=0.12738651037216187, negelbo=-0.27584293484687805\n",
      "83000: mu=tensor([0.4841, 0.5148]), sigma=0.13072478771209717, negelbo=-0.29503685235977173\n",
      "83500: mu=tensor([0.4620, 0.5373]), sigma=0.13415054976940155, negelbo=-0.30221909284591675\n",
      "84000: mu=tensor([0.4589, 0.5407]), sigma=0.1376606523990631, negelbo=-0.29994675517082214\n",
      "84500: mu=tensor([0.4827, 0.5176]), sigma=0.14125888049602509, negelbo=-0.3032306730747223\n",
      "85000: mu=tensor([0.5146, 0.4856]), sigma=0.14494341611862183, negelbo=-0.31871497631073\n",
      "85500: mu=tensor([0.5366, 0.4634]), sigma=0.14872094988822937, negelbo=-0.333159863948822\n",
      "86000: mu=tensor([0.5380, 0.4622]), sigma=0.1525910347700119, negelbo=-0.3482186794281006\n",
      "86500: mu=tensor([0.5121, 0.4883]), sigma=0.15655648708343506, negelbo=-0.3411509394645691\n",
      "87000: mu=tensor([0.4808, 0.5195]), sigma=0.16062089800834656, negelbo=-0.3480749726295471\n",
      "87500: mu=tensor([0.4624, 0.5378]), sigma=0.16478388011455536, negelbo=-0.36244291067123413\n",
      "88000: mu=tensor([0.4693, 0.5306]), sigma=0.16905179619789124, negelbo=-0.37832701206207275\n",
      "88500: mu=tensor([0.5000, 0.4996]), sigma=0.1734219193458557, negelbo=-0.4047607183456421\n",
      "89000: mu=tensor([0.5276, 0.4720]), sigma=0.177902951836586, negelbo=-0.3968389928340912\n",
      "89500: mu=tensor([0.5365, 0.4628]), sigma=0.18249022960662842, negelbo=-0.4092380702495575\n",
      "90000: mu=tensor([0.5159, 0.4836]), sigma=0.18719443678855896, negelbo=-0.41286516189575195\n",
      "90500: mu=tensor([0.4839, 0.5154]), sigma=0.1920098066329956, negelbo=-0.4184117317199707\n"
     ]
    },
    {
     "name": "stdout",
     "output_type": "stream",
     "text": [
      "91000: mu=tensor([0.4652, 0.5341]), sigma=0.19694766402244568, negelbo=-0.4146566390991211\n",
      "91500: mu=tensor([0.4747, 0.5259]), sigma=0.2020011842250824, negelbo=-0.4320593476295471\n",
      "92000: mu=tensor([0.5064, 0.4946]), sigma=0.20718364417552948, negelbo=-0.43782421946525574\n",
      "92500: mu=tensor([0.5301, 0.4705]), sigma=0.21248695254325867, negelbo=-0.4445354640483856\n",
      "93000: mu=tensor([0.5288, 0.4711]), sigma=0.21792492270469666, negelbo=-0.4431256353855133\n",
      "93500: mu=tensor([0.4990, 0.4999]), sigma=0.22348926961421967, negelbo=-0.4437592625617981\n",
      "94000: mu=tensor([0.4730, 0.5268]), sigma=0.22919423878192902, negelbo=-0.4481338858604431\n",
      "94500: mu=tensor([0.4712, 0.5295]), sigma=0.235032320022583, negelbo=-0.4475458562374115\n",
      "95000: mu=tensor([0.4990, 0.5014]), sigma=0.2410154491662979, negelbo=-0.4495702385902405\n",
      "95500: mu=tensor([0.5260, 0.4742]), sigma=0.24713990092277527, negelbo=-0.4499739408493042\n",
      "96000: mu=tensor([0.5283, 0.4718]), sigma=0.25341305136680603, negelbo=-0.4482326805591583\n",
      "96500: mu=tensor([0.4995, 0.5007]), sigma=0.2598370313644409, negelbo=-0.4510229229927063\n",
      "97000: mu=tensor([0.4730, 0.5265]), sigma=0.26641231775283813, negelbo=-0.4495076537132263\n",
      "97500: mu=tensor([0.4739, 0.5239]), sigma=0.2731488049030304, negelbo=-0.4432642459869385\n",
      "98000: mu=tensor([0.5049, 0.4932]), sigma=0.2800397276878357, negelbo=-0.4427127540111542\n",
      "98500: mu=tensor([0.5281, 0.4721]), sigma=0.2870972156524658, negelbo=-0.44200795888900757\n",
      "99000: mu=tensor([0.5195, 0.4840]), sigma=0.29432249069213867, negelbo=-0.4347149729728699\n",
      "99500: mu=tensor([0.4880, 0.5152]), sigma=0.301713228225708, negelbo=-0.42700836062431335\n"
     ]
    },
    {
     "data": {
      "text/plain": [
       "[<matplotlib.lines.Line2D at 0x15a18c0d0>]"
      ]
     },
     "execution_count": 182,
     "metadata": {},
     "output_type": "execute_result"
    },
    {
     "data": {
      "image/png": "[encoded data removed]",
      "text/plain": [
       "<Figure size 640x480 with 1 Axes>"
      ]
     },
     "metadata": {},
     "output_type": "display_data"
    }
   ],
   "source": [
    "mu_0 = torch.tensor([0.5, 0.5])\n",
    "sigma_0 = torch.tensor([0.5])\n",
    "\n",
    "mu = nn.Parameter(torch.tensor([.1, .9], dtype=torch.float))\n",
    "logsigma = nn.Parameter(torch.tensor([np.log(0.9)], dtype=torch.float))\n",
    "lr = 0.00005\n",
    "optim = torch.optim.Adam([mu, logsigma], lr=lr)\n",
    "num_epoch = 100000\n",
    "S = 2000\n",
    "\n",
    "\n",
    "rec = []\n",
    "for epoch in range(num_epoch):\n",
    "    q = tdist.MultivariateNormal(loc=mu, covariance_matrix=torch.eye(2) * torch.exp(logsigma))\n",
    "    xi = q.rsample((S, ))\n",
    "    term1 = q.log_prob(xi)\n",
    "    term2 = torch.sum((xi - mu_0)**2, dim=1) / (2 * sigma_0**2)\n",
    "    neg_elbo = torch.mean(term1 + term2)\n",
    "    neg_elbo.backward()\n",
    "    optim.step()\n",
    "    \n",
    "    if epoch % 500 == 0:\n",
    "        print(f\"{epoch}: mu={mu.detach()}, sigma={torch.exp(logsigma).item()}, negelbo={neg_elbo}\")\n",
    "        rec.append((epoch, neg_elbo.detach()))\n",
    "rec = np.array(rec)\n",
    "plt.plot(rec[:, 0], rec[:, 1])"
   ]
  },
  {
   "cell_type": "code",
   "execution_count": 174,
   "id": "36a4e36b",
   "metadata": {},
   "outputs": [
    {
     "data": {
      "text/plain": [
       "tensor([[ 1.1560,  1.3841],\n",
       "        [ 2.5061,  1.0345],\n",
       "        [ 1.0563, -0.1402],\n",
       "        [ 2.3896,  0.8519],\n",
       "        [ 1.4072, -0.0600],\n",
       "        [ 0.2538, -0.7068],\n",
       "        [ 1.0606,  0.4373],\n",
       "        [ 2.0594,  0.0208],\n",
       "        [-0.7130,  0.9368],\n",
       "        [ 0.1691, -2.3851],\n",
       "        [ 0.6361,  1.1237],\n",
       "        [-0.1620,  0.5209],\n",
       "        [-0.6892,  1.3305],\n",
       "        [ 0.1083, -0.7228],\n",
       "        [-1.5169, -0.7154],\n",
       "        [ 0.3064,  0.5576],\n",
       "        [-0.7567, -0.6787],\n",
       "        [-0.7509,  1.2373],\n",
       "        [ 0.9709, -0.9608],\n",
       "        [ 1.3601,  0.7127]], grad_fn=<AddBackward0>)"
      ]
     },
     "execution_count": 174,
     "metadata": {},
     "output_type": "execute_result"
    }
   ],
   "source": [
    "mu = nn.Parameter(torch.tensor([0.5, 0.5]))\n",
    "logsigma = nn.Parameter(torch.tensor([np.log(0.9)]))\n",
    "optim = torch.optim.SGD([mu, logsigma], lr=0.0001)\n",
    "\n",
    "q = tdist.MultivariateNormal(loc=mu, covariance_matrix=torch.eye(2) * sigma)\n",
    "xi = q.rsample((20, ))\n"
   ]
  },
  {
   "cell_type": "code",
   "execution_count": null,
   "id": "e072a939",
   "metadata": {},
   "outputs": [],
   "source": []
  },
  {
   "cell_type": "markdown",
   "id": "49d69659",
   "metadata": {},
   "source": [
    "# Experiment 1: Learning 2D standard form posterior\n",
    "\n",
    "We are assuming that our posterior is of the form \n",
    "$$\n",
    "p(\\xi_1, \\xi_2) = \\frac{1}{\\overline{Z}_n} \\xi_1^{h_1} \\xi_2^{h_2} e^{-n \\xi_1^{2k_1} \\xi_2^{2k_2}}, \\quad (\\xi_1, \\xi_2) \\in [0, 1]^2\n",
    "$$\n",
    "where $\\overline{Z}_n = \\int_{[0, 1]^2} \\xi_1^{h_1} \\xi_2^{h_2} e^{-n \\xi_1^{2k_1} \\xi_2^{2k_2}} d\\xi_1 d\\xi_2$ is the normalising constant, a.k.a. the evidence.  \n",
    "\n",
    "The posterior contours would look like the following:"
   ]
  },
  {
   "cell_type": "code",
   "execution_count": 126,
   "id": "df460556",
   "metadata": {},
   "outputs": [
    {
     "data": {
      "application/vnd.jupyter.widget-view+json": {
       "model_id": "3539428d81b1411c80db4814785d89e8",
       "version_major": 2,
       "version_minor": 0
      },
      "text/plain": [
       "interactive(children=(IntSlider(value=5, description='n', max=10000, min=2), IntSlider(value=2, description='k…"
      ]
     },
     "metadata": {},
     "output_type": "display_data"
    }
   ],
   "source": [
    "N = 200\n",
    "xx, yy = np.meshgrid(np.linspace(0, 1, num=N), np.linspace(0, 1, num=N))\n",
    "\n",
    "\n",
    "@interact(\n",
    "    n=(2, 10000),\n",
    "    k1=(0, 5),\n",
    "    k2=(0, 5),\n",
    "    h1=(0, 5),\n",
    "    h2=(0, 5)\n",
    ")\n",
    "def _plot_contour(n=5, k1=2, k2=1, h1=1, h2=1):\n",
    "    fig, ax = plt.subplots(1, 1, figsize=(5, 5))\n",
    "    z = (xx ** h1) * (yy ** h2) * np.exp(-n * (xx **(2 * k1)) * (yy **(2*k2)))\n",
    "    normalising_const = np.sum(z) / (N**2)\n",
    "    \n",
    "    lambdas = np.array([(h1 + 1) / (2 * k1), (h2 + 1) / (2 * k2)])\n",
    "    rlct = np.min(lambdas)\n",
    "    m = np.sum(lambdas == rlct)\n",
    "    print(\n",
    "        f\"-logZ = {-np.log(normalising_const)}\\n\"\n",
    "        f\"RLCT= {rlct}\\n\"\n",
    "        f\"m={m}\\n\"\n",
    "        f\"rlct log(n) - (m - 1) log log n= {rlct * np.log(n) - (m -1) * np.log(np.log(n))}\"\n",
    "    )\n",
    "    ax.contourf(xx, yy, z / normalising_const, levels=100)\n",
    "    ax.set_xlabel(\"$\\\\xi_1$\")\n",
    "    ax.set_ylabel(\"$\\\\xi_2$\")"
   ]
  },
  {
   "cell_type": "markdown",
   "id": "58229897",
   "metadata": {},
   "source": [
    "Given a variational family $\\mathcal{Q}$, we wish to find a variational approximation $\\hat{q} \\in \\mathcal{Q}$ that minimises the KL-divergence $KL(\\hat{q} || p(\\xi_1, \\xi_2)$. Notice though that this is equivalent to maximising the ELBO = Evidence Lower Bound: \n",
    "$$\n",
    "\\elbo(q)= -\\E_q\\sqbrac{n\\xi^{2k}} - \\E_q \\log \\frac{q(\\xi)}{\\xi^h} \\\\\n",
    "$$\n",
    "\n",
    "This can be shown by the following calculation. \n",
    "$$\n",
    "\\begin{align*}\n",
    "  \\kl(q||p) \n",
    "  &= \\E_q\\log \\frac{q(\\xi)}{p(\\xi)}\\\\\n",
    "  &= \\log \\overline{Z}_n + \\E_q\\log \\frac{q(\\xi)}{\\xi_1^{h_1} \\xi_2^{h_2} e^{-n \\xi_1^{2k_1} \\xi_2^{2k_2}}} \\\\\n",
    "  &= \\log \\overline{Z}_n + \\E_q\\log \\frac{q(\\xi)}{\\xi_1^{h_1} \\xi_2^{h_2}} + \\E_q n \\xi_1^{2k_1} \\xi_2^{2k_2}\\\\\n",
    "\\end{align*}\n",
    "$$\n",
    "Since $\\kl(q||p) \\geq 0$, we can bound the log-evidence with \n",
    "$$\n",
    "  \\log \\overline{Z}_n \\geq -\\E_q\\log \\frac{q(\\xi)}{\\xi_1^{h_1} \\xi_2^{h_2}} - \\E_q n \\xi_1^{2k_1} \\xi_2^{2k_2} =: \\elbo(q)\n",
    "$$\n",
    "\n",
    "## Gaussian Variational Family\n",
    "We shall first use a simple Gaussian family of distribution for variational inference. \n",
    "$$\n",
    "\\mathcal{Q}_{gaussian} := \\set{q_{\\mu_1, \\mu_2, \\sigma}(\\xi) = \\frac{1}{2\\pi \\sigma^2} e^{-\\frac{1}{2\\sigma^2} \\sqbrac{(\\xi_1 - \\mu_1)^2 + (\\xi_2 - \\mu_2)^2}} \\st \\mu_1, \\mu_2 \\in \\R, \\sigma \\in (0, \\infty)}\n",
    "$$\n",
    "\n",
    "To maximise $\\elbo(q)$ for $q \\in \\mathcal{Q}_{gaussian}$ via gradient descent on the variational parameters $\\theta = (\\mu_1, \\mu_2, \\sigma)$, we need unbiased estimate for the gradient $\\nabla_{\\theta} \\elbo(q)$. We can apply the reparametrisation trick to the above gaussian family as follow, for each $j = 1, 2$\n",
    " 1. We sample noise $\\epsilon_j$ independently from $N(0, 1)$. \n",
    " 2. Set $\\xi_j = \\mu_j + \\sigma \\epsilon_j$. \n",
    "\n",
    "This construction implies that $\\xi_j \\sim N(\\mu_j, \\sigma^2)$ and $(\\xi_1, \\xi_2) \\sim q_\\theta$. We can then estimate the gradient of ELBO as\n",
    "$$\n",
    "\\nabla_\\theta \\elbo(q_\\theta) = \\nabla_\\theta -\\E_q\\log \\frac{q(\\xi)}{\\xi_1^{h_1} \\xi_2^{h_2}} - \\E_q n \\xi_1^{2k_1} \\xi_2^{2k_2}\n",
    "$$"
   ]
  },
  {
   "cell_type": "code",
   "execution_count": 135,
   "id": "03f16531",
   "metadata": {
    "scrolled": false
   },
   "outputs": [
    {
     "name": "stdout",
     "output_type": "stream",
     "text": [
      "0: mu=tensor([0.4996, 0.4991]), sigma=0.8992097560069962\n",
      "1: mu=tensor([0.4997, 0.4883]), sigma=0.9012345848777339\n",
      "2: mu=tensor([0.4995, 0.4740]), sigma=0.9035485304993867\n",
      "3: mu=tensor([0.4990, 0.4587]), sigma=0.905114037459982\n",
      "4: mu=tensor([0.4966, 0.4416]), sigma=0.9069159676328323\n",
      "5: mu=tensor([0.4941, 0.4233]), sigma=0.9079626245326816\n",
      "6: mu=tensor([0.4913, 0.4043]), sigma=0.9082208173394033\n",
      "7: mu=tensor([0.4883, 0.3847]), sigma=0.9076373685930434\n",
      "8: mu=tensor([0.4857, 0.3633]), sigma=0.9064216338041458\n",
      "9: mu=tensor([0.4830, 0.3414]), sigma=0.9044688276159966\n",
      "10: mu=tensor([0.4686, 0.3169]), sigma=0.9073973487828088\n",
      "11: mu=tensor([0.4531, 0.2943]), sigma=0.9093391271189668\n",
      "12: mu=tensor([0.4765, 0.2674]), sigma=0.8957315576624149\n",
      "13: mu=tensor([0.5004, 0.2398]), sigma=0.8815433341392471\n",
      "14: mu=tensor([0.5253, 0.2117]), sigma=0.8666189110894572\n",
      "15: mu=tensor([0.5510, 0.1817]), sigma=0.8513414565772438\n",
      "16: mu=tensor([0.5772, 0.1513]), sigma=0.8357846762980596\n",
      "17: mu=tensor([0.6038, 0.1201]), sigma=0.8200232109860568\n",
      "18: mu=tensor([0.6307, 0.0877]), sigma=0.8042398632480485\n",
      "19: mu=tensor([0.6584, 0.0537]), sigma=0.788313363585588\n",
      "20: mu=tensor([0.6864, 0.0193]), sigma=0.7723993372153679\n",
      "21: mu=tensor([ 0.7148, -0.0159]), sigma=0.7566425755217447\n",
      "22: mu=tensor([ 0.7442, -0.0515]), sigma=0.7407230064920094\n",
      "23: mu=tensor([ 0.7759, -0.0884]), sigma=0.7239857007865097\n",
      "24: mu=tensor([ 0.8074, -0.1183]), sigma=0.7083345613822613\n",
      "25: mu=tensor([ 0.8397, -0.1475]), sigma=0.6929618211495703\n",
      "26: mu=tensor([ 0.8726, -0.1777]), sigma=0.6778487273726357\n",
      "27: mu=tensor([ 0.9062, -0.2070]), sigma=0.6631655791870491\n",
      "28: mu=tensor([ 0.9407, -0.2391]), sigma=0.6484255105802068\n",
      "29: mu=tensor([ 0.9764, -0.2748]), sigma=0.633320735130645\n",
      "30: mu=tensor([ 1.0131, -0.3119]), sigma=0.6184630250317247\n",
      "31: mu=tensor([ 1.0509, -0.3509]), sigma=0.6037007264881555\n",
      "32: mu=tensor([ 1.0902, -0.3927]), sigma=0.5886975719607117\n",
      "33: mu=tensor([ 1.1310, -0.4357]), sigma=0.5738693084373794\n",
      "34: mu=tensor([ 1.1733, -0.4813]), sigma=0.5590903959570944\n",
      "35: mu=tensor([ 1.2158, -0.5279]), sigma=0.5455618453272515\n",
      "36: mu=tensor([ 1.2604, -0.5803]), sigma=0.5309153601776252\n",
      "37: mu=tensor([ 1.3070, -0.6345]), sigma=0.5165230392444861\n",
      "38: mu=tensor([ 1.3558, -0.6930]), sigma=0.501549427537047\n",
      "39: mu=tensor([ 1.4069, -0.7544]), sigma=0.48665709976578414\n",
      "40: mu=tensor([ 1.4605, -0.8215]), sigma=0.4708096852671958\n",
      "41: mu=tensor([ 1.5170, -0.8899]), sigma=0.4557724600959307\n",
      "42: mu=tensor([ 1.5765, -0.9617]), sigma=0.44077767121544886\n",
      "43: mu=tensor([ 1.6394, -1.0368]), sigma=0.42590407209627146\n",
      "44: mu=tensor([ 1.7060, -1.1154]), sigma=0.4112129742937461\n",
      "45: mu=tensor([ 1.7767, -1.1973]), sigma=0.39689622298522315\n",
      "46: mu=tensor([ 1.8520, -1.2830]), sigma=0.3827898693202794\n",
      "47: mu=tensor([ 1.9324, -1.3727]), sigma=0.3689306411447721\n",
      "48: mu=tensor([ 2.0183, -1.4667]), sigma=0.35532292258924314\n",
      "49: mu=tensor([ 2.1104, -1.5652]), sigma=0.34199287103718273\n"
     ]
    }
   ],
   "source": [
    "mu = torch.tensor([.5, .5], requires_grad=True)\n",
    "logsigma = torch.tensor([np.log(0.9)], requires_grad=True)\n",
    "lr = 0.0005\n",
    "optim = torch.optim.SGD([mu, logsigma], lr=lr)\n",
    "num_epoch = 50\n",
    "S = 20000\n",
    "n = 2\n",
    "\n",
    "k = torch.tensor([2, 1])\n",
    "h = torch.tensor([1, 1])\n",
    "for epoch in range(num_epoch):\n",
    "    q_eps = tdist.MultivariateNormal(torch.zeros(2), torch.eye(2)) \n",
    "    eps = q_eps.rsample((S, ))\n",
    "    xi = mu + torch.exp(logsigma) * eps\n",
    "    term1 = n * torch.mean(torch.prod(xi**k, dim=1))\n",
    "    term2 = 2 * logsigma - torch.mean(torch.sum(torch.log(xi) * h, dim=1))\n",
    "    neg_elbo = term1 + term2\n",
    "    neg_elbo.backward()\n",
    "    optim.step()\n",
    "    \n",
    "    print(f\"{epoch}: mu={mu.detach()}, sigma={torch.exp(logsigma).item()}\")\n"
   ]
  },
  {
   "cell_type": "code",
   "execution_count": 136,
   "id": "476a57e5",
   "metadata": {},
   "outputs": [
    {
     "data": {
      "text/plain": [
       "Text(0, 0.5, '$\\\\xi_2$')"
      ]
     },
     "execution_count": 136,
     "metadata": {},
     "output_type": "execute_result"
    },
    {
     "data": {
      "image/png": "[encoded data removed]",
      "text/plain": [
       "<Figure size 500x500 with 1 Axes>"
      ]
     },
     "metadata": {},
     "output_type": "display_data"
    }
   ],
   "source": [
    "with torch.no_grad():\n",
    "    sigma = torch.exp(logsigma)\n",
    "    q = tdist.MultivariateNormal(mu, torch.eye(2) * sigma)\n",
    "#     q = tdist.MultivariateNormal(torch.tensor([0.5, 0.3]), torch.eye(2) * 0.1)\n",
    "    N = 50\n",
    "    xx, yy = torch.meshgrid(torch.linspace(0, 1, steps=50), torch.linspace(0, 1, steps=50))\n",
    "    z = q.log_prob(torch.stack((xx, yy), dim=-1))\n",
    "fig, ax = plt.subplots(1, 1, figsize=(5, 5))\n",
    "ax.contourf(xx, yy, torch.exp(z), levels=100)\n",
    "ax.set_xlabel(\"$\\\\xi_1$\")\n",
    "ax.set_ylabel(\"$\\\\xi_2$\")"
   ]
  },
  {
   "cell_type": "code",
   "execution_count": 77,
   "id": "6aa73136",
   "metadata": {},
   "outputs": [
    {
     "data": {
      "text/plain": [
       "tensor(-684.1006, grad_fn=<SubBackward0>)"
      ]
     },
     "execution_count": 77,
     "metadata": {},
     "output_type": "execute_result"
    }
   ],
   "source": [
    "q.log_prob(torch.tensor([0.1, 0.5]))"
   ]
  },
  {
   "cell_type": "code",
   "execution_count": 82,
   "id": "28de6d02",
   "metadata": {},
   "outputs": [
    {
     "data": {
      "text/plain": [
       "tensor([[-709.7518, -708.4135, -707.0778,  ..., -649.5218, -648.2994,\n",
       "         -647.0795],\n",
       "        [-711.0580, -709.7199, -708.3842,  ..., -650.8281, -649.6058,\n",
       "         -648.3859],\n",
       "        [-712.3668, -711.0286, -709.6929,  ..., -652.1368, -650.9144,\n",
       "         -649.6945],\n",
       "        ...,\n",
       "        [-773.8115, -772.4733, -771.1376,  ..., -713.5816, -712.3592,\n",
       "         -711.1393],\n",
       "        [-775.2336, -773.8954, -772.5598,  ..., -715.0037, -713.7813,\n",
       "         -712.5615],\n",
       "        [-776.6582, -775.3200, -773.9843,  ..., -716.4283, -715.2059,\n",
       "         -713.9860]], grad_fn=<SubBackward0>)"
      ]
     },
     "execution_count": 82,
     "metadata": {},
     "output_type": "execute_result"
    }
   ],
   "source": []
  },
  {
   "cell_type": "code",
   "execution_count": null,
   "id": "e45e14bc",
   "metadata": {},
   "outputs": [],
   "source": []
  }
 ],
 "metadata": {
  "kernelspec": {
   "display_name": "Python 3 (ipykernel)",
   "language": "python",
   "name": "python3"
  },
  "language_info": {
   "codemirror_mode": {
    "name": "ipython",
    "version": 3
   },
   "file_extension": ".py",
   "mimetype": "text/x-python",
   "name": "python",
   "nbconvert_exporter": "python",
   "pygments_lexer": "ipython3",
   "version": "3.10.8"
  }
 },
 "nbformat": 4,
 "nbformat_minor": 5
}
