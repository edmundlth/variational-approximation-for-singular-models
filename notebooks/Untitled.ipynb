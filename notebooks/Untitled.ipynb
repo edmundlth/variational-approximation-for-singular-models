{
 "cells": [
  {
   "cell_type": "code",
   "execution_count": 25,
   "id": "10d51837",
   "metadata": {},
   "outputs": [],
   "source": [
    "import torch\n",
    "import matplotlib.pyplot as plt\n",
    "import numpy as np\n",
    "import seaborn as sns\n",
    "import scipy\n",
    "\n",
    "import torch.distributions as tdist\n",
    "\n",
    "from ipywidgets import interact"
   ]
  },
  {
   "cell_type": "markdown",
   "id": "49d69659",
   "metadata": {},
   "source": [
    "# Experiment 1: Learning 2D standard form posterior\n",
    "\n",
    "We are assuming that our posterior is of the form \n",
    "$$\n",
    "p(\\xi_1, \\xi_2) \\propto \\xi_1^{h_1} \\xi_2^{h_2} e^{-n \\xi_1^{2k_1} \\xi_2^{2k_2}}, \\quad (\\xi_1, \\xi_2) \\in [0, 1]^2\n",
    "$$\n",
    "The posterior contours would look like the following:"
   ]
  },
  {
   "cell_type": "code",
   "execution_count": 41,
   "id": "df460556",
   "metadata": {},
   "outputs": [
    {
     "data": {
      "application/vnd.jupyter.widget-view+json": {
       "model_id": "979316df53904b6cb6f02a665e36ef21",
       "version_major": 2,
       "version_minor": 0
      },
      "text/plain": [
       "interactive(children=(IntSlider(value=5, description='n', max=10000, min=1), IntSlider(value=2, description='k…"
      ]
     },
     "metadata": {},
     "output_type": "display_data"
    }
   ],
   "source": [
    "N = 200\n",
    "xx, yy = np.meshgrid(np.linspace(0, 1, num=50), np.linspace(0, 1, num=N))\n",
    "\n",
    "\n",
    "@interact(\n",
    "    n=(1, 10000),\n",
    "    k1=(0, 5),\n",
    "    k2=(0, 5),\n",
    "    h1=(0, 5),\n",
    "    h2=(0, 5)\n",
    ")\n",
    "def _plot_contour(n=5, k1=2, k2=1, h1=1, h2=1):\n",
    "    fig, ax = plt.subplots(1, 1, figsize=(5, 5))\n",
    "    z = (xx ** h1) * (yy ** h2) * np.exp(-n * (xx **(2 * k1)) * (yy **(2*k2)))\n",
    "    normalising_const = np.sum(z) / (N**2)\n",
    "    \n",
    "    lambdas = np.array([(h1 + 1) / (2 * k1), (h2 + 1) / (2 * k2)])\n",
    "    rlct = np.min(lambdas)\n",
    "    m = np.sum(lambdas == rlct)\n",
    "    print(\n",
    "        f\"-logZ = {-np.log(normalising_const)}\\n\"\n",
    "        f\"RLCT= {rlct}\\n\"\n",
    "        f\"m={m}\\n\"\n",
    "        f\"rlct log(n) - (m - 1) log log n= {rlct * np.log(n) - (m -1) * np.log(np.log(n))}\"\n",
    "    )\n",
    "    ax.contourf(xx, yy, z / normalising_const, levels=100)\n",
    "    ax.set_xlabel(\"$\\\\xi_1$\")\n",
    "    ax.set_ylabel(\"$\\\\xi_2$\")"
   ]
  },
  {
   "cell_type": "markdown",
   "id": "58229897",
   "metadata": {},
   "source": [
    "Given a variational family $\\mathcal{Q}$, we wish to find a variational approximation $\\hat{q} \\in \\mathcal{Q}$ that minimises the KL-divergence $KL(\\hat{q} || p(\\xi_1, \\xi_2)$. Notice though that this is equivalent to maximising the ELBO = Evidence Lower Bound. \n",
    "\n",
    "$$\n",
    "\\mathrm{ELBO(q)} = -\\mathbb{E}_q[\\log(q)] + \\mathbb{E}_q[n\\xi_1^{2k_1}\\xi_2^{2k_2}] - \\mathbb{E}_q[\\log \\xi_1^{h_1}\\xi_2^{h_2}]\n",
    "$$"
   ]
  },
  {
   "cell_type": "code",
   "execution_count": null,
   "id": "fa25f52f",
   "metadata": {},
   "outputs": [],
   "source": []
  }
 ],
 "metadata": {
  "kernelspec": {
   "display_name": "Python 3 (ipykernel)",
   "language": "python",
   "name": "python3"
  },
  "language_info": {
   "codemirror_mode": {
    "name": "ipython",
    "version": 3
   },
   "file_extension": ".py",
   "mimetype": "text/x-python",
   "name": "python",
   "nbconvert_exporter": "python",
   "pygments_lexer": "ipython3",
   "version": "3.9.15"
  }
 },
 "nbformat": 4,
 "nbformat_minor": 5
}
